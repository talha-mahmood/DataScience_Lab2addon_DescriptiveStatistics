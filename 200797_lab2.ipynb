{
 "cells": [
  {
   "cell_type": "markdown",
   "metadata": {},
   "source": [
    "# Task1"
   ]
  },
  {
   "cell_type": "code",
   "execution_count": 6,
   "metadata": {},
   "outputs": [
    {
     "name": "stderr",
     "output_type": "stream",
     "text": [
      "C:\\Users\\Haier\\AppData\\Local\\Temp\\ipykernel_4072\\1152005782.py:8: DtypeWarning: Columns (10,16) have mixed types. Specify dtype option on import or set low_memory=False.\n",
      "  loangrant_df = pd.read_csv(\"loangrant.csv\")\n"
     ]
    },
    {
     "data": {
      "image/png": "[encoded data removed]",
      "text/plain": [
       "<Figure size 640x480 with 1 Axes>"
      ]
     },
     "metadata": {},
     "output_type": "display_data"
    }
   ],
   "source": []
  },
  {
   "cell_type": "code",
   "execution_count": 7,
   "metadata": {},
   "outputs": [
    {
     "name": "stdout",
     "output_type": "stream",
     "text": [
      "Outliers:\n",
      "0         7280.0\n",
      "1         7330.0\n",
      "2         7240.0\n",
      "3         7400.0\n",
      "4         6860.0\n",
      "           ...  \n",
      "111040     602.0\n",
      "111052     644.0\n",
      "111077     644.0\n",
      "111097     635.0\n",
      "111105     626.0\n",
      "Name: Credit Score, Length: 7886, dtype: float64\n"
     ]
    }
   ],
   "source": [
    "\n",
    "# Outlier detection \n",
    "Q1 = loangrant_df['Credit Score'].quantile(0.25)\n",
    "Q3 = loangrant_df['Credit Score'].quantile(0.75)\n",
    "IQR = Q3 - Q1\n",
    "lower_bound = Q1 - 1.5 * IQR\n",
    "upper_bound = Q3 + 1.5 * IQR\n",
    "outliers = loangrant_df[(loangrant_df['Credit Score'] < lower_bound) | (loangrant_df['Credit Score'] > upper_bound)]\n",
    "print(\"Outliers:\")\n",
    "print(outliers['Credit Score'])"
   ]
  },
  {
   "cell_type": "markdown",
   "metadata": {},
   "source": [
    "# Task2 + Task3"
   ]
  },
  {
   "cell_type": "code",
   "execution_count": 8,
   "metadata": {},
   "outputs": [
    {
     "name": "stdout",
     "output_type": "stream",
     "text": [
      "Column: Credit Score\n",
      "Mean: 1075.7950294645145, Median: 724.0, Mode: 747.0\n",
      "Replace missing values with median (justification: less sensitive to outliers)\n",
      "Column: Annual Income\n",
      "Mean: 72485.9981842284, Median: 61752.0, Mode: 61188.0\n",
      "Replace missing values with median (justification: less sensitive to outliers)\n",
      "Column: Months since last delinquent\n",
      "Mean: 34.90227237832028, Median: 32.0, Mode: 12.0\n",
      "Replace missing values with median (justification: less sensitive to outliers)\n",
      "Column: Bankruptcies\n",
      "Mean: 0.11765979130403413, Median: 0.0, Mode: 0.0\n",
      "Replace missing values with median (justification: less sensitive to outliers)\n",
      "Column: Tax Liens\n",
      "Mean: 0.02935299200691294, Median: 0.0, Mode: 0.0\n",
      "Replace missing values with median (justification: less sensitive to outliers)\n",
      "Missing values after replacement:\n",
      "Loan ID                            0\n",
      "Customer ID                        0\n",
      "Loan Status                        0\n",
      "Current Loan Amount                0\n",
      "Term                               0\n",
      "Credit Score                       0\n",
      "Years in current job            4693\n",
      "Home Ownership                     0\n",
      "Annual Income                      0\n",
      "Purpose                            0\n",
      "Monthly Debt                       0\n",
      "Years of Credit History            0\n",
      "Months since last delinquent       0\n",
      "Number of Open Accounts            0\n",
      "Number of Credit Problems          0\n",
      "Current Credit Balance             0\n",
      "Maximum Open Credit                0\n",
      "Bankruptcies                       0\n",
      "Tax Liens                          0\n",
      "dtype: int64\n"
     ]
    }
   ],
   "source": [
    "# Handling missing values\n",
    "# Replace missing values with appropriate central tendency\n",
    "for column in loangrant_df.columns:\n",
    "    if loangrant_df[column].dtype != 'object':\n",
    "        if loangrant_df[column].isnull().sum() > 0:\n",
    "            mean_val = loangrant_df[column].mean()\n",
    "            median_val = loangrant_df[column].median()\n",
    "            mode_val = loangrant_df[column].mode()[0]\n",
    "            print(f\"Column: {column}\")\n",
    "            print(f\"Mean: {mean_val}, Median: {median_val}, Mode: {mode_val}\")\n",
    "            print(\"Replace missing values with median (justification: less sensitive to outliers)\")\n",
    "            # Replace missing values with median (justification: less sensitive to outliers)\n",
    "            loangrant_df[column].fillna(median_val, inplace=True)\n",
    "\n",
    "# Verify if there are any missing values left\n",
    "print(\"Missing values after replacement:\")\n",
    "print(loangrant_df.isnull().sum())\n",
    "\n"
   ]
  },
  {
   "cell_type": "markdown",
   "metadata": {},
   "source": [
    "# Task4"
   ]
  },
  {
   "cell_type": "code",
   "execution_count": 9,
   "metadata": {},
   "outputs": [
    {
     "name": "stdout",
     "output_type": "stream",
     "text": [
      "Modified dataset saved to 'updated_loangrant.csv'\n"
     ]
    }
   ],
   "source": [
    "\n",
    "\n",
    "\n",
    "\n",
    "# Define the mapping for replacement\n",
    "replacement_mapping = {\n",
    "    '< 1 year': '< year',\n",
    "    'n/a': '< year',\n",
    "    '10+ years': 'above 10 years',\n",
    "    '1 years': 'two-four years',\n",
    "    '2 years': 'two-four years',\n",
    "    '3 years': 'two-four years',\n",
    "    '4 years': 'two-four years',\n",
    "    '5 years': 'five-seven years',\n",
    "    '6 years': 'five-seven years',\n",
    "    '7 years': 'five-seven years',\n",
    "    '8 years': 'eight-nine years',\n",
    "    '9 years': 'eight-nine years',\n",
    "  \n",
    "}\n",
    "\n",
    "# Replace values in the 'Year in current job' column\n",
    "loangrant_df['Years in current job'] = loangrant_df['Years in current job'].replace(replacement_mapping)\n",
    "\n",
    "# Save the modified DataFrame to a new CSV file\n",
    "loangrant_df.to_csv(\"updated_loangrant.csv\", index=False)\n",
    "\n",
    "print(\"Modified dataset saved to 'updated_loangrant.csv'\")\n"
   ]
  },
  {
   "cell_type": "code",
   "execution_count": null,
   "metadata": {},
   "outputs": [],
   "source": []
  }
 ],
 "metadata": {
  "kernelspec": {
   "display_name": "notebook",
   "language": "python",
   "name": "python3"
  },
  "language_info": {
   "codemirror_mode": {
    "name": "ipython",
    "version": 3
   },
   "file_extension": ".py",
   "mimetype": "text/x-python",
   "name": "python",
   "nbconvert_exporter": "python",
   "pygments_lexer": "ipython3",
   "version": "3.11.7"
  }
 },
 "nbformat": 4,
 "nbformat_minor": 2
}
